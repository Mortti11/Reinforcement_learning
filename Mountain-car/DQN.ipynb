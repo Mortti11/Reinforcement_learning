{
 "cells": [
  {
   "cell_type": "code",
   "execution_count": null,
   "id": "cb4f7911",
   "metadata": {},
   "outputs": [],
   "source": [
    "import gymnasium as gym\n",
    "\n",
    "from IPython.display import clear_output\n",
    "from IPython.utils import io\n",
    "import matplotlib.pyplot as plt\n",
    "import numpy as np\n",
    "import os\n",
    "os.environ['KERAS_BACKEND'] = 'torch'\n",
    "from collections import deque, namedtuple\n",
    "import torch\n",
    "import torch.nn as nn\n",
    "import torch.optim as optim\n",
    "import torch.nn.functional as F"
   ]
  },
  {
   "cell_type": "code",
   "execution_count": null,
   "id": "e25c64fc",
   "metadata": {},
   "outputs": [],
   "source": [
    "# https://gemini.google.com/app/563cee1a5e6f06b3"
   ]
  },
  {
   "cell_type": "markdown",
   "id": "d2c15f8f",
   "metadata": {},
   "source": [
    "### Creating environment "
   ]
  },
  {
   "cell_type": "code",
   "execution_count": 2,
   "id": "7e313da1",
   "metadata": {},
   "outputs": [],
   "source": [
    "env = gym.make('MountainCar-v0', render_mode='rgb_array')"
   ]
  },
  {
   "cell_type": "code",
   "execution_count": 4,
   "id": "ac2e7200",
   "metadata": {},
   "outputs": [],
   "source": [
    "observation_space = env.observation_space\n",
    "action_space = env.action_space"
   ]
  },
  {
   "cell_type": "code",
   "execution_count": 6,
   "id": "21ab6d53",
   "metadata": {},
   "outputs": [
    {
     "name": "stdout",
     "output_type": "stream",
     "text": [
      "Observation Space: Box([-1.2  -0.07], [0.6  0.07], (2,), float32)\n",
      "Observation Space Shape: (2,)\n",
      "Observation Space Sample: [-0.60137475 -0.00553307]\n",
      "Action Space: Discrete(3)\n",
      "Action Space Sample: 0\n"
     ]
    }
   ],
   "source": [
    "print(f'Observation Space: {observation_space}')\n",
    "print(f'Observation Space Shape: {observation_space.shape}')\n",
    "print(f'Observation Space Sample: {observation_space.sample()}')\n",
    "print(f'Action Space: {action_space}')\n",
    "print(f'Action Space Sample: {action_space.sample()}') "
   ]
  },
  {
   "cell_type": "code",
   "execution_count": null,
   "id": "42d88ad1",
   "metadata": {},
   "outputs": [],
   "source": [
    "# DQN can dandle continuous values "
   ]
  },
  {
   "cell_type": "markdown",
   "id": "0ae9e6f0",
   "metadata": {},
   "source": [
    "# Creating Class "
   ]
  },
  {
   "cell_type": "code",
   "execution_count": null,
   "id": "0ce05821",
   "metadata": {},
   "outputs": [],
   "source": [
    "class Car_DQN(nn.Module):\n",
    "    # Constructor to initialize the NN\n",
    "        def __init__ (self, n_observations, n_actions, hidden_size=64):\n",
    "            super(Car_DQN, self).__init__()\n",
    "            \n",
    "            self.layer1 = nn.Linear(n_observations, hidden_size)\n",
    "            self.layer2 = nn.Linear(hidden_size, hidden_size)\n",
    "            self.layer3 = nn.Linear(hidden_size, n_actions)\n",
    "            \n",
    "        # Forward pass through the network\n",
    "        def forward(self, x):\n",
    "            x = torch.tensor(x, dtype=torch.float32)\n",
    "            x = F.relu(self.layer1(x))\n",
    "            x = F.relu(self.layer2(x))\n",
    "            x = self.layer3(x)\n",
    "            return self.layer3(x)        "
   ]
  },
  {
   "cell_type": "markdown",
   "id": "643d7b25",
   "metadata": {},
   "source": [
    "# Replay Buffer class"
   ]
  },
  {
   "cell_type": "code",
   "execution_count": null,
   "id": "2a259513",
   "metadata": {},
   "outputs": [],
   "source": [
    "class ReplayBuffer:"
   ]
  }
 ],
 "metadata": {
  "kernelspec": {
   "display_name": ".venv",
   "language": "python",
   "name": "python3"
  },
  "language_info": {
   "codemirror_mode": {
    "name": "ipython",
    "version": 3
   },
   "file_extension": ".py",
   "mimetype": "text/x-python",
   "name": "python",
   "nbconvert_exporter": "python",
   "pygments_lexer": "ipython3",
   "version": "3.10.11"
  }
 },
 "nbformat": 4,
 "nbformat_minor": 5
}
