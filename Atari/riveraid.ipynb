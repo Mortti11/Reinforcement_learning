{
 "cells": [
  {
   "cell_type": "code",
   "execution_count": 1,
   "metadata": {},
   "outputs": [],
   "source": [
    "import gymnasium as gym\n",
    "import ale_py\n",
    "from gymnasium.utils import play\n",
    "\n",
    "from stable_baselines3 import PPO\n",
    "from stable_baselines3.common.callbacks import BaseCallback\n",
    "from stable_baselines3.common.callbacks import BaseCallback, EvalCallback  \n",
    "import time"
   ]
  },
  {
   "cell_type": "code",
   "execution_count": 16,
   "metadata": {},
   "outputs": [],
   "source": [
    "env = gym.make('Riverraid-v4', render_mode='rgb_array', max_episode_steps=1000) "
   ]
  },
  {
   "cell_type": "code",
   "execution_count": 17,
   "metadata": {},
   "outputs": [
    {
     "name": "stdout",
     "output_type": "stream",
     "text": [
      "========================================\n",
      "Environment Spaces:\n",
      "\n",
      "Observation Space: Box(0, 255, (210, 160, 3), uint8)\n",
      "Action Space:      Discrete(18) \n",
      "========================================\n"
     ]
    }
   ],
   "source": [
    "print('='*40)\n",
    "print('Environment Spaces:\\n')\n",
    "print(f'Observation Space: {env.observation_space}')\n",
    "print(f'Action Space:      {env.action_space} ')\n",
    "print('='*40)"
   ]
  },
  {
   "cell_type": "code",
   "execution_count": 18,
   "metadata": {},
   "outputs": [],
   "source": [
    "class River_raid:\n",
    "    def __init__(self, env):\n",
    "        self.env = env\n",
    "        self.time_alive = 0\n",
    "        \n",
    "        self.action_space = env.action_space\n",
    "        self.observation_space = env.observation_space\n",
    "        self.state = env.reset()\n",
    "        \n",
    "    def step(self, action):\n",
    "        self.state, reward, done, info = self.env.step(action)\n",
    "        \n",
    "        # Increment time_alive each step the agent is alive\n",
    "        if not done:\n",
    "            self.time_alive += 1\n",
    "        else:\n",
    "            self.time_alive = 0\n",
    "        \n",
    "        # reward if agent survives 10 steps\n",
    "        if self.time_alive >= 10:\n",
    "            reward += 1\n",
    "            \n",
    "        return self.state, reward, done, info\n",
    "    \n",
    "    def reset(self):\n",
    "        self.time_alive = 0  \n",
    "        self.state = self.env.reset()\n",
    "        return self.state"
   ]
  }
 ],
 "metadata": {
  "kernelspec": {
   "display_name": ".venv",
   "language": "python",
   "name": "python3"
  },
  "language_info": {
   "codemirror_mode": {
    "name": "ipython",
    "version": 3
   },
   "file_extension": ".py",
   "mimetype": "text/x-python",
   "name": "python",
   "nbconvert_exporter": "python",
   "pygments_lexer": "ipython3",
   "version": "3.10.11"
  }
 },
 "nbformat": 4,
 "nbformat_minor": 2
}
