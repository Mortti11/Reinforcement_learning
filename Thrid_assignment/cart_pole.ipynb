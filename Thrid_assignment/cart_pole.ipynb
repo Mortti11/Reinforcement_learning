{
 "cells": [
  {
   "cell_type": "markdown",
   "id": "79ccc51b",
   "metadata": {},
   "source": [
    "### **The concepts of reinforcement learning that should be discussed in this exercise:**\n",
    "**Deep Q-learning vs Classical Q-learning**<br>\n",
    "**Replay buffer**<br>\n",
    "**Q-network vs Target network**<br>\n",
    "**Common neural networks (ANN) vs DQN-networks**<br>\n",
    "**DQN Hyperparameter**<br>\n",
    "**DQN training vs classical Q-learning training**<br>"
   ]
  },
  {
   "cell_type": "code",
   "execution_count": null,
   "id": "d8801ac3",
   "metadata": {},
   "outputs": [],
   "source": []
  }
 ],
 "metadata": {
  "kernelspec": {
   "display_name": ".venv",
   "language": "python",
   "name": "python3"
  },
  "language_info": {
   "codemirror_mode": {
    "name": "ipython",
    "version": 3
   },
   "file_extension": ".py",
   "mimetype": "text/x-python",
   "name": "python",
   "nbconvert_exporter": "python",
   "pygments_lexer": "ipython3",
   "version": "3.10.11"
  }
 },
 "nbformat": 4,
 "nbformat_minor": 5
}
